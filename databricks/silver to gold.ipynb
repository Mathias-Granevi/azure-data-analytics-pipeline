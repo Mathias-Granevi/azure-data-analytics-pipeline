{
 "cells": [
  {
   "cell_type": "code",
   "execution_count": 0,
   "metadata": {
    "application/vnd.databricks.v1+cell": {
     "cellMetadata": {
      "byteLimit": 2048000,
      "rowLimit": 10000
     },
     "inputWidgets": {},
     "nuid": "f99b684d-9f0b-48b2-823d-ee22b8334fd1",
     "showTitle": false,
     "tableResultSettingsMap": {},
     "title": ""
    }
   },
   "outputs": [],
   "source": [
    "from pyspark.sql import functions as F\n",
    "from pyspark.sql.window import Window\n",
    "\n",
    "# Read silver tables\n",
    "customer_df = spark.read.format('delta').load('/mnt/silver/Sales/Customer')\n",
    "sales_order_header_df = spark.read.format('delta').load('/mnt/silver/Sales/SalesOrderHeader')\n",
    "sales_order_detail_df = spark.read.format('delta').load('/mnt/silver/Sales/SalesOrderDetail')\n",
    "product_df = spark.read.format('delta').load('/mnt/silver/Production/Product')\n",
    "product_subcat_df = spark.read.format('delta').load('/mnt/silver/Production/ProductSubcategory')\n",
    "product_cat_df = spark.read.format('delta').load('/mnt/silver/Production/ProductCategory')\n",
    "person_df = spark.read.format('delta').load('/mnt/silver/Person/Person')\n",
    "territory_df = spark.read.format('delta').load('/mnt/silver/Sales/SalesTerritory')"
   ]
  },
  {
   "cell_type": "code",
   "execution_count": 0,
   "metadata": {
    "application/vnd.databricks.v1+cell": {
     "cellMetadata": {
      "byteLimit": 2048000,
      "rowLimit": 10000
     },
     "inputWidgets": {},
     "nuid": "4c804c45-36c1-4c5e-8c0d-f8ab738818f7",
     "showTitle": false,
     "tableResultSettingsMap": {},
     "title": ""
    }
   },
   "outputs": [],
   "source": [
    "# 1. Create a Fact Table\n",
    "sales_fact = (sales_order_detail_df\n",
    "    .join(sales_order_header_df, \"SalesOrderID\")\n",
    "    .join(product_df, \"ProductID\")\n",
    "    .select(\n",
    "        F.col(\"SalesOrderDetailID\").alias(\"sales_order_detail_id\"),\n",
    "        F.col(\"SalesOrderID\").alias(\"sales_order_id\"),\n",
    "        F.col(\"ProductID\").alias(\"product_id\"),\n",
    "        F.col(\"CustomerID\").alias(\"customer_id\"),\n",
    "        F.col(\"SalesPersonID\").alias(\"sales_person_id\"),\n",
    "        F.col(\"TerritoryID\").alias(\"territory_id\"),\n",
    "        F.col(\"OrderDate\").alias(\"order_date\"),\n",
    "        F.col(\"OrderQty\").alias(\"order_qty\"),\n",
    "        F.col(\"UnitPrice\").cast(\"decimal(10,2)\").alias(\"unit_price\"),\n",
    "        F.col(\"UnitPriceDiscount\").cast(\"decimal(10,2)\").alias(\"unit_price_discount\"),\n",
    "        (F.col(\"OrderQty\") * F.col(\"UnitPrice\") * (1 - F.col(\"UnitPriceDiscount\"))).cast(\"decimal(10,2)\").alias(\"line_total\")\n",
    "    ))"
   ]
  },
  {
   "cell_type": "code",
   "execution_count": 0,
   "metadata": {
    "application/vnd.databricks.v1+cell": {
     "cellMetadata": {
      "byteLimit": 2048000,
      "rowLimit": 10000
     },
     "inputWidgets": {},
     "nuid": "105771e3-6c15-4d53-8edd-84ff6489a57c",
     "showTitle": false,
     "tableResultSettingsMap": {},
     "title": ""
    }
   },
   "outputs": [],
   "source": [
    "# 2. Create Customer Dimension\n",
    "\n",
    "customer_dim = (customer_df\n",
    "    .join(person_df, customer_df[\"PersonID\"] == person_df[\"BusinessEntityID\"], \"left\")\n",
    "    .select(\n",
    "        F.col(\"CustomerID\").alias(\"customer_id\"),\n",
    "        F.col(\"PersonID\").alias(\"person_id\"),\n",
    "        F.col(\"territoryID\").alias(\"territory_id\"),\n",
    "        F.col(\"FirstName\").alias(\"first_name\"),\n",
    "        F.col(\"LastName\").alias(\"last_name\"),\n",
    "        F.concat(F.col(\"FirstName\"), F.lit(\" \"), F.col(\"LastName\")).alias(\"full_name\"),\n",
    "        F.col(\"Title\").alias(\"title\"),\n",
    "    )\n",
    "    .filter(F.col(\"PersonType\") == \"IN\") # Filter out employees and non customers\n",
    ")"
   ]
  },
  {
   "cell_type": "code",
   "execution_count": 0,
   "metadata": {
    "application/vnd.databricks.v1+cell": {
     "cellMetadata": {
      "byteLimit": 2048000,
      "rowLimit": 10000
     },
     "inputWidgets": {},
     "nuid": "a6de5853-eb3c-4c4a-8f6c-f2a928e3f633",
     "showTitle": false,
     "tableResultSettingsMap": {},
     "title": ""
    }
   },
   "outputs": [],
   "source": [
    "# 3. Create Product Dimension with hierarchy\n",
    "product_dim = (product_df.alias(\"prod\")\n",
    "    .join(product_subcat_df.alias(\"subcat\"), \"ProductSubcategoryID\", \"left\")\n",
    "    .join(product_cat_df.alias(\"cat\"), \"ProductCategoryID\", \"left\")\n",
    "    .select(\n",
    "        F.col(\"ProductID\").alias(\"product_id\"),\n",
    "        F.col(\"prod.Name\").alias(\"product_name\"),\n",
    "        F.col(\"ProductNumber\").alias(\"product_number\"),\n",
    "        F.col(\"ProductSubcategoryID\").alias(\"product_subcat_id\"),\n",
    "        product_subcat_df.Name.alias(\"product_sub_cat_name\"),\n",
    "        F.col(\"ProductCategoryID\").alias(\"product_cat_id\"),\n",
    "        product_cat_df.Name.alias(\"product_cat_name\"),\n",
    "        F.col(\"StandardCost\").cast(\"decimal(10,2)\").alias(\"standard_cost\"),\n",
    "        F.col(\"ListPrice\").cast(\"decimal(10,2)\").alias(\"list_price\"),\n",
    "        F.col(\"Color\").alias(\"color\"),\n",
    "    ))\n"
   ]
  },
  {
   "cell_type": "code",
   "execution_count": 0,
   "metadata": {
    "application/vnd.databricks.v1+cell": {
     "cellMetadata": {
      "byteLimit": 2048000,
      "rowLimit": 10000
     },
     "inputWidgets": {},
     "nuid": "7e97ec28-fc50-43f0-a593-1f739eed2d35",
     "showTitle": false,
     "tableResultSettingsMap": {},
     "title": ""
    }
   },
   "outputs": [],
   "source": [
    "# 4. Create Territory Dimension\n",
    "territory_dim = territory_df.select(\n",
    "    F.col(\"TerritoryID\").alias(\"territory_id\"),\n",
    "    F.col(\"Name\").alias(\"TerritoryName\"),\n",
    "    F.col(\"CountryRegionCode\").alias(\"country_code\"),\n",
    "    F.col(\"Group\").alias(\"territory_group\")\n",
    ")"
   ]
  },
  {
   "cell_type": "code",
   "execution_count": 0,
   "metadata": {
    "application/vnd.databricks.v1+cell": {
     "cellMetadata": {
      "byteLimit": 2048000,
      "rowLimit": 10000
     },
     "inputWidgets": {},
     "nuid": "a93d707e-162c-4e60-9d18-21642293d8fc",
     "showTitle": false,
     "tableResultSettingsMap": {},
     "title": ""
    }
   },
   "outputs": [],
   "source": [
    "# 5. Create Date Dimension\n",
    "date_dim = (sales_fact\n",
    "    .select(\"order_date\")\n",
    "    .distinct()\n",
    "    .select(\n",
    "        F.col(\"order_date\"),\n",
    "        F.date_format(\"order_date\", \"yyyy\").alias(\"year\"),\n",
    "        F.date_format(\"order_date\", \"MM\").alias(\"month\"),\n",
    "        F.date_format(\"order_date\", \"dd\").alias(\"day\"),\n",
    "        F.date_format(\"order_date\", \"Q\").alias(\"quarter\"),\n",
    "        F.date_format(\"order_date\", \"MMMM\").alias(\"month_name\"),\n",
    "        F.dayofweek(\"order_date\").alias(\"day_of_Week\")\n",
    "    ))"
   ]
  },
  {
   "cell_type": "code",
   "execution_count": 0,
   "metadata": {
    "application/vnd.databricks.v1+cell": {
     "cellMetadata": {
      "byteLimit": 2048000,
      "rowLimit": 10000
     },
     "inputWidgets": {},
     "nuid": "39258967-9170-43dc-8b93-cc60e5136639",
     "showTitle": false,
     "tableResultSettingsMap": {},
     "title": ""
    }
   },
   "outputs": [],
   "source": [
    "# 6. Create Sales KPIs\n",
    "sales_kpis = (sales_fact\n",
    "    .join(customer_dim, \"customer_id\", \"left\")\n",
    "    .groupBy(\"order_date\")\n",
    "    .agg(\n",
    "        F.sum(\"line_total\").cast(\"decimal(10,2)\").alias(\"total_sales\"),\n",
    "        F.countDistinct(\"sales_order_id\").alias(\"number_of_orders\"),\n",
    "        (F.sum(\"line_total\") / F.countDistinct(\"sales_order_id\")).cast(\"decimal(10,2)\").alias(\"average_order_value\"),\n",
    "        F.countDistinct(\"customer_id\").alias(\"unique_customers\"),\n",
    "        (F.sum(\"line_total\") / F.countDistinct(\"customer_id\")).cast(\"decimal(10,2)\").alias(\"avg_sales_per_customer\")\n",
    "    ))"
   ]
  },
  {
   "cell_type": "code",
   "execution_count": 0,
   "metadata": {
    "application/vnd.databricks.v1+cell": {
     "cellMetadata": {
      "byteLimit": 2048000,
      "rowLimit": 10000
     },
     "inputWidgets": {},
     "nuid": "91b85f51-c401-49f5-9f08-3e13b8e918e3",
     "showTitle": false,
     "tableResultSettingsMap": {},
     "title": ""
    }
   },
   "outputs": [],
   "source": [
    "# Write to gold layer\n",
    "sales_fact.write.format(\"delta\").mode(\"overwrite\").save('/mnt/gold/Sales/sales_fact/')\n",
    "customer_dim.write.format(\"delta\").mode(\"overwrite\").save(\"/mnt/gold/Sales/customer_dim/\")\n",
    "product_dim.write.format(\"delta\").mode(\"overwrite\").save(\"/mnt/gold/Sales/product_dim/\")\n",
    "territory_dim.write.format(\"delta\").mode(\"overwrite\").save(\"/mnt/gold/Sales/territory_dim/\")\n",
    "date_dim.write.format(\"delta\").mode(\"overwrite\").save(\"/mnt/gold/Sales/date_dim/\")\n",
    "sales_kpis.write.format(\"delta\").mode(\"overwrite\").save(\"/mnt/gold/Sales/sales_kpis/\")"
   ]
  }
 ],
 "metadata": {
  "application/vnd.databricks.v1+notebook": {
   "dashboards": [],
   "environmentMetadata": {
    "base_environment": "",
    "client": "1"
   },
   "language": "python",
   "notebookMetadata": {
    "pythonIndentUnit": 4
   },
   "notebookName": "silver to gold",
   "widgets": {}
  },
  "language_info": {
   "name": "python"
  }
 },
 "nbformat": 4,
 "nbformat_minor": 0
}
