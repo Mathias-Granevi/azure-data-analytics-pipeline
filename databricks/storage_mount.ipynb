{
 "cells": [
  {
   "cell_type": "code",
   "execution_count": 0,
   "metadata": {
    "application/vnd.databricks.v1+cell": {
     "cellMetadata": {
      "byteLimit": 2048000,
      "rowLimit": 10000
     },
     "inputWidgets": {},
     "nuid": "6944258b-03d9-448b-bfde-a0653fb57468",
     "showTitle": false,
     "tableResultSettingsMap": {},
     "title": ""
    }
   },
   "outputs": [],
   "source": [
    "storage_account_name = \"<your-storage-account-here>\"\n",
    "container_name = \"bronze\"\n",
    "mount_point = \"/mnt/bronze\"\n",
    "access_key = \"<your-access-key-here>\"\n",
    "\n",
    "# Configure the mount\n",
    "configs = {\n",
    "  \"fs.azure.account.key.\"+storage_account_name+\".blob.core.windows.net\": access_key\n",
    "}\n",
    "\n",
    "# Mount the storage\n",
    "dbutils.fs.mount(\n",
    "  source = f\"wasbs://{container_name}@{storage_account_name}.blob.core.windows.net/\",\n",
    "  mount_point = mount_point,\n",
    "  extra_configs = configs\n",
    ")\n",
    "\n",
    "print(\"Mount succeeded!\")"
   ]
  },
  {
   "cell_type": "code",
   "execution_count": 0,
   "metadata": {
    "application/vnd.databricks.v1+cell": {
     "cellMetadata": {
      "byteLimit": 2048000,
      "rowLimit": 10000
     },
     "inputWidgets": {},
     "nuid": "7fd35006-2ce0-4bf3-9749-ec2f3cd7a993",
     "showTitle": false,
     "tableResultSettingsMap": {},
     "title": ""
    }
   },
   "outputs": [],
   "source": [
    "storage_account_name = \"granevidatalakegen2\"\n",
    "container_name = \"silver\"\n",
    "mount_point = \"/mnt/silver\"\n",
    "access_key = \"<your-access-key-here>\"\n",
    "\n",
    "# Configure the mount\n",
    "configs = {\n",
    "  \"fs.azure.account.key.\"+storage_account_name+\".blob.core.windows.net\": access_key\n",
    "}\n",
    "\n",
    "# Mount the storage\n",
    "dbutils.fs.mount(\n",
    "  source = f\"wasbs://{container_name}@{storage_account_name}.blob.core.windows.net/\",\n",
    "  mount_point = mount_point,\n",
    "  extra_configs = configs\n",
    ")\n",
    "\n",
    "print(\"Mount succeeded!\")"
   ]
  },
  {
   "cell_type": "code",
   "execution_count": 0,
   "metadata": {
    "application/vnd.databricks.v1+cell": {
     "cellMetadata": {
      "byteLimit": 2048000,
      "rowLimit": 10000
     },
     "inputWidgets": {},
     "nuid": "9caa6fc9-2652-453e-8eed-19650292e132",
     "showTitle": false,
     "tableResultSettingsMap": {},
     "title": ""
    }
   },
   "outputs": [],
   "source": [
    "storage_account_name = \"<your-storage-account-here>\"\n",
    "container_name = \"gold\"\n",
    "mount_point = \"/mnt/gold\"\n",
    "access_key = \"<your-access-key-here>\"\n",
    "\n",
    "# Configure the mount\n",
    "configs = {\n",
    "  \"fs.azure.account.key.\"+storage_account_name+\".blob.core.windows.net\": access_key\n",
    "}\n",
    "\n",
    "# Mount the storage\n",
    "dbutils.fs.mount(\n",
    "  source = f\"wasbs://{container_name}@{storage_account_name}.blob.core.windows.net/\",\n",
    "  mount_point = mount_point,\n",
    "  extra_configs = configs\n",
    ")\n",
    "\n",
    "print(\"Mount succeeded!\")"
   ]
  }
 ],
 "metadata": {
  "application/vnd.databricks.v1+notebook": {
   "dashboards": [],
   "environmentMetadata": {
    "base_environment": "",
    "client": "1"
   },
   "language": "python",
   "notebookMetadata": {
    "pythonIndentUnit": 4
   },
   "notebookName": "storage_mount",
   "widgets": {}
  },
  "language_info": {
   "name": "python"
  }
 },
 "nbformat": 4,
 "nbformat_minor": 0
}
